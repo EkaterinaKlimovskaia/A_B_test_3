{
 "cells": [
  {
   "cell_type": "markdown",
   "id": "4ed9c228",
   "metadata": {},
   "source": [
    "## Исследование умной системы рекомендации товаров в в приложении по доставке продуктов через интерпритацию результатов А/B теста\n",
    "\n",
    "###  Для проверки работы умной системы рекомендации товаров был проведен АБ-тест, в рамках которого все пользователи приложения были разделены на две группы. Пользователи в группе с номером 0 пользовались старой версией приложения, где нет рекомендации товаров. Пользователи в группе 1 пользовались приложением с новой системой рекомендаций.\n",
    "### Предполагается, что Умная система рекомендации товаров поможет пользователям эффективнее работать с приложением и лучше находить необходимые товары.\n",
    "### Оценим, смогла ли новая система рекомендаций принести пользу бизнесу и пользователям приложения и правда ли, что новый алгоритм улучшил качество сервиса. Сделаем аналитическое заключение с ответом на вопрос, стоит ли включать новую систему рекомендаций на всех пользователей.\n",
    "\n",
    "### ПЛАН РАБОТЫ:\n",
    "\n",
    "**1. Прочитаем файл и сделаем предобработку данных** \n",
    "\n",
    "**2. Посмотрим на следующие метрики:**  \n",
    "**- Среднее число заказов на каждого пользователя**  \n",
    "**- Соотношение заказов и отмен в группах**  \n",
    "**- Среднее число позиций товаров в заказе**  \n",
    "**- Средний чек**  \n",
    "**- Retention**\n",
    "\n",
    "**3. Ответим на вопрос: Смогла ли новая система рекомендаций принести пользу бизнесу и пользователям приложения и стоит ли включать новую систему рекомендаций на всех пользователей**  "
   ]
  },
  {
   "cell_type": "markdown",
   "id": "d384e38b",
   "metadata": {},
   "source": [
    "### Данные\n",
    "\n",
    "**users – история заказов пользователей, в таблице есть информация о том, какие заказы создавали и отменяли пользователи**\n",
    "\n",
    "**orders – подробная информация о составе заказа, для каждого заказа есть список id тех продуктов, которые были включены в заказ**\n",
    "\n",
    "**products – подробная информация о продуктах, их название и стоимость**\n",
    "\n",
    "**Группу с номером 0, в которой пользователи, использующие приложение со старым алгоритмом, будем называть контрольная группа.  \n",
    "Группу с номером 1, в которой пользователи, использующие приложение с новым алгоритмом для поиска анкет, будем называть тестовая группа** \n"
   ]
  },
  {
   "cell_type": "markdown",
   "id": "2d4ecb18",
   "metadata": {},
   "source": [
    "## 1. Прочитаем файл и сделаем предобработку данных"
   ]
  },
  {
   "cell_type": "code",
   "execution_count": 28,
   "id": "aa627540",
   "metadata": {},
   "outputs": [],
   "source": [
    "import pandas as pd \n",
    "import seaborn as sns \n",
    "import matplotlib.pyplot as plt \n",
    "import scipy.stats as st\n",
    "import pingouin as pg\n",
    "import numpy as np\n",
    "import lifelines as lf"
   ]
  },
  {
   "cell_type": "code",
   "execution_count": 87,
   "id": "8fa5304b",
   "metadata": {},
   "outputs": [],
   "source": [
    "# прочитаем наши данные\n",
    "\n",
    "users = pd.read_csv('ab_users_data.csv')\n",
    "orders = pd.read_csv('ab_orders.csv')\n",
    "products = pd.read_csv('ab_products.csv')"
   ]
  },
  {
   "cell_type": "code",
   "execution_count": 88,
   "id": "c196694e",
   "metadata": {},
   "outputs": [
    {
     "name": "stdout",
     "output_type": "stream",
     "text": [
      "(4337, 6)\n",
      "(4123, 3)\n",
      "(87, 3)\n"
     ]
    }
   ],
   "source": [
    "# посмотрим на размер наших df\n",
    "\n",
    "print(users.shape)\n",
    "print(orders.shape)\n",
    "print(products.shape)"
   ]
  },
  {
   "cell_type": "markdown",
   "id": "88704200",
   "metadata": {},
   "source": [
    "**размер users (история заказов пользователей) получился больше,   \n",
    "чем products (подробная информация о составе заказа)  \n",
    "т.е. на 1 заказ приходится больше строчек истoрии заказов  \n",
    "я предпологаю, что на один номер заказа приходится несколько строчек \n",
    "action (действий с заказами)**"
   ]
  },
  {
   "cell_type": "code",
   "execution_count": 89,
   "id": "a6fbb4d7",
   "metadata": {},
   "outputs": [
    {
     "data": {
      "text/plain": [
       "array(['create_order', 'cancel_order'], dtype=object)"
      ]
     },
     "execution_count": 89,
     "metadata": {},
     "output_type": "execute_result"
    }
   ],
   "source": [
    "# посмотрим какие статуся заказа могут быть в action\n",
    "\n",
    "users.action.unique()\n",
    "# мы видим, что статус может быть заказан, а может быть отменен"
   ]
  },
  {
   "cell_type": "markdown",
   "id": "79606372",
   "metadata": {},
   "source": [
    "## 2. Посмотрим на следующие метрики:\n",
    "\n",
    "**- Соотношение заказов и отмен в группах**  \n",
    "**- Среднее число заказов на каждого пользователя**  \n",
    "**- Среднее число позиций товаров в заказе**  \n",
    "**- Средний чек**  \n",
    "**- Retention**"
   ]
  },
  {
   "cell_type": "markdown",
   "id": "2eb3bf09",
   "metadata": {},
   "source": [
    "### Сравним соотношение заказов и отмен в группах"
   ]
  },
  {
   "cell_type": "code",
   "execution_count": 90,
   "id": "c66a1139",
   "metadata": {},
   "outputs": [
    {
     "data": {
      "text/plain": [
       "8     1258\n",
       "39    1296\n",
       "47    1298\n",
       "54    1308\n",
       "60    1315\n",
       "Name: order_id, dtype: int64"
      ]
     },
     "execution_count": 90,
     "metadata": {},
     "output_type": "execute_result"
    }
   ],
   "source": [
    "# вычислим номера заказов (order_id), которые были отменены\n",
    "\n",
    "order_cancel = users.query('action == \"cancel_order\"').order_id\n",
    "order_cancel.head()"
   ]
  },
  {
   "cell_type": "code",
   "execution_count": 91,
   "id": "803e7c39",
   "metadata": {},
   "outputs": [
    {
     "data": {
      "text/html": [
       "<div>\n",
       "<style scoped>\n",
       "    .dataframe tbody tr th:only-of-type {\n",
       "        vertical-align: middle;\n",
       "    }\n",
       "\n",
       "    .dataframe tbody tr th {\n",
       "        vertical-align: top;\n",
       "    }\n",
       "\n",
       "    .dataframe thead th {\n",
       "        text-align: right;\n",
       "    }\n",
       "</style>\n",
       "<table border=\"1\" class=\"dataframe\">\n",
       "  <thead>\n",
       "    <tr style=\"text-align: right;\">\n",
       "      <th></th>\n",
       "      <th>user_id</th>\n",
       "      <th>order_id</th>\n",
       "      <th>action</th>\n",
       "      <th>time</th>\n",
       "      <th>date</th>\n",
       "      <th>group</th>\n",
       "      <th>is_canctled</th>\n",
       "    </tr>\n",
       "  </thead>\n",
       "  <tbody>\n",
       "    <tr>\n",
       "      <th>0</th>\n",
       "      <td>964</td>\n",
       "      <td>1255</td>\n",
       "      <td>create_order</td>\n",
       "      <td>2022-08-26 00:00:19.000000</td>\n",
       "      <td>2022-08-26</td>\n",
       "      <td>0</td>\n",
       "      <td>0</td>\n",
       "    </tr>\n",
       "    <tr>\n",
       "      <th>1</th>\n",
       "      <td>965</td>\n",
       "      <td>1256</td>\n",
       "      <td>create_order</td>\n",
       "      <td>2022-08-26 00:02:21.000000</td>\n",
       "      <td>2022-08-26</td>\n",
       "      <td>1</td>\n",
       "      <td>0</td>\n",
       "    </tr>\n",
       "    <tr>\n",
       "      <th>2</th>\n",
       "      <td>964</td>\n",
       "      <td>1257</td>\n",
       "      <td>create_order</td>\n",
       "      <td>2022-08-26 00:02:27.000000</td>\n",
       "      <td>2022-08-26</td>\n",
       "      <td>0</td>\n",
       "      <td>0</td>\n",
       "    </tr>\n",
       "    <tr>\n",
       "      <th>3</th>\n",
       "      <td>966</td>\n",
       "      <td>1258</td>\n",
       "      <td>create_order</td>\n",
       "      <td>2022-08-26 00:02:56.000000</td>\n",
       "      <td>2022-08-26</td>\n",
       "      <td>0</td>\n",
       "      <td>1</td>\n",
       "    </tr>\n",
       "    <tr>\n",
       "      <th>4</th>\n",
       "      <td>967</td>\n",
       "      <td>1259</td>\n",
       "      <td>create_order</td>\n",
       "      <td>2022-08-26 00:03:37.000000</td>\n",
       "      <td>2022-08-26</td>\n",
       "      <td>1</td>\n",
       "      <td>0</td>\n",
       "    </tr>\n",
       "  </tbody>\n",
       "</table>\n",
       "</div>"
      ],
      "text/plain": [
       "   user_id  order_id        action                        time        date  \\\n",
       "0      964      1255  create_order  2022-08-26 00:00:19.000000  2022-08-26   \n",
       "1      965      1256  create_order  2022-08-26 00:02:21.000000  2022-08-26   \n",
       "2      964      1257  create_order  2022-08-26 00:02:27.000000  2022-08-26   \n",
       "3      966      1258  create_order  2022-08-26 00:02:56.000000  2022-08-26   \n",
       "4      967      1259  create_order  2022-08-26 00:03:37.000000  2022-08-26   \n",
       "\n",
       "   group  is_canctled  \n",
       "0      0            0  \n",
       "1      1            0  \n",
       "2      0            0  \n",
       "3      0            1  \n",
       "4      1            0  "
      ]
     },
     "execution_count": 91,
     "metadata": {},
     "output_type": "execute_result"
    }
   ],
   "source": [
    "# создадим новую колонку is_canctled в users, \n",
    "# в которой укажем информацию отменен заказ или нет\n",
    "\n",
    "# возьмем колонку 'order_id' с помощью метода isin посмотрим попадаются ли order_id\n",
    "# в количестве тех order_id, заказы которых были отменены\n",
    "# если попадаются order_id, заказы которых были отменены \n",
    "# при методе isin будет TRUE и если не попадаются будет FALSE\n",
    "# добавим astype(int) и теперь TRUE = 1, FALSE = 0\n",
    "# если заказ отменен то в is_canctled будет 1\n",
    "\n",
    "users['is_canctled'] = users['order_id'].isin(order_cancel).astype(int)\n",
    "users.head()"
   ]
  },
  {
   "cell_type": "code",
   "execution_count": 92,
   "id": "3de84529",
   "metadata": {},
   "outputs": [
    {
     "data": {
      "text/plain": [
       "(4123, 7)"
      ]
     },
     "execution_count": 92,
     "metadata": {},
     "output_type": "execute_result"
    }
   ],
   "source": [
    "# так как на отменные заказы в users приходится по две строчки\n",
    "# то от отменных заказов надо избавится, \n",
    "# если заказ был отменен, у нас в колонке есть признак отмены в колонке is_canctled\n",
    "\n",
    "users = users.query('action == \"create_order\"')\n",
    "users.shape\n",
    "\n",
    "# мы видим, теперь количество заказов в users и orders совпадает"
   ]
  },
  {
   "cell_type": "code",
   "execution_count": 93,
   "id": "54386f26",
   "metadata": {},
   "outputs": [
    {
     "data": {
      "text/html": [
       "<div>\n",
       "<style scoped>\n",
       "    .dataframe tbody tr th:only-of-type {\n",
       "        vertical-align: middle;\n",
       "    }\n",
       "\n",
       "    .dataframe tbody tr th {\n",
       "        vertical-align: top;\n",
       "    }\n",
       "\n",
       "    .dataframe thead th {\n",
       "        text-align: right;\n",
       "    }\n",
       "</style>\n",
       "<table border=\"1\" class=\"dataframe\">\n",
       "  <thead>\n",
       "    <tr style=\"text-align: right;\">\n",
       "      <th>is_canctled</th>\n",
       "      <th>0</th>\n",
       "      <th>1</th>\n",
       "    </tr>\n",
       "    <tr>\n",
       "      <th>group</th>\n",
       "      <th></th>\n",
       "      <th></th>\n",
       "    </tr>\n",
       "  </thead>\n",
       "  <tbody>\n",
       "    <tr>\n",
       "      <th>0</th>\n",
       "      <td>1527</td>\n",
       "      <td>82</td>\n",
       "    </tr>\n",
       "    <tr>\n",
       "      <th>1</th>\n",
       "      <td>2382</td>\n",
       "      <td>132</td>\n",
       "    </tr>\n",
       "  </tbody>\n",
       "</table>\n",
       "</div>"
      ],
      "text/plain": [
       "is_canctled     0    1\n",
       "group                 \n",
       "0            1527   82\n",
       "1            2382  132"
      ]
     },
     "execution_count": 93,
     "metadata": {},
     "output_type": "execute_result"
    }
   ],
   "source": [
    "# посмотрим на соотношение заказов и отмен в группах\n",
    "\n",
    "pd.crosstab(users.group, users.is_canctled)\n",
    "\n",
    "# после кросстабуляции мы видим, что в тестовой группе выросло \n",
    "# и количество реально сделанных заказов и отменненых"
   ]
  },
  {
   "cell_type": "code",
   "execution_count": 94,
   "id": "fa658d51",
   "metadata": {},
   "outputs": [
    {
     "data": {
      "text/html": [
       "<div>\n",
       "<style scoped>\n",
       "    .dataframe tbody tr th:only-of-type {\n",
       "        vertical-align: middle;\n",
       "    }\n",
       "\n",
       "    .dataframe tbody tr th {\n",
       "        vertical-align: top;\n",
       "    }\n",
       "\n",
       "    .dataframe thead th {\n",
       "        text-align: right;\n",
       "    }\n",
       "</style>\n",
       "<table border=\"1\" class=\"dataframe\">\n",
       "  <thead>\n",
       "    <tr style=\"text-align: right;\">\n",
       "      <th></th>\n",
       "      <th>test</th>\n",
       "      <th>lambda</th>\n",
       "      <th>chi2</th>\n",
       "      <th>dof</th>\n",
       "      <th>pval</th>\n",
       "      <th>cramer</th>\n",
       "      <th>power</th>\n",
       "    </tr>\n",
       "  </thead>\n",
       "  <tbody>\n",
       "    <tr>\n",
       "      <th>0</th>\n",
       "      <td>pearson</td>\n",
       "      <td>1.000000</td>\n",
       "      <td>0.021274</td>\n",
       "      <td>1.0</td>\n",
       "      <td>0.884034</td>\n",
       "      <td>0.002272</td>\n",
       "      <td>0.052441</td>\n",
       "    </tr>\n",
       "    <tr>\n",
       "      <th>1</th>\n",
       "      <td>cressie-read</td>\n",
       "      <td>0.666667</td>\n",
       "      <td>0.021284</td>\n",
       "      <td>1.0</td>\n",
       "      <td>0.884008</td>\n",
       "      <td>0.002272</td>\n",
       "      <td>0.052442</td>\n",
       "    </tr>\n",
       "    <tr>\n",
       "      <th>2</th>\n",
       "      <td>log-likelihood</td>\n",
       "      <td>0.000000</td>\n",
       "      <td>0.021304</td>\n",
       "      <td>1.0</td>\n",
       "      <td>0.883954</td>\n",
       "      <td>0.002273</td>\n",
       "      <td>0.052444</td>\n",
       "    </tr>\n",
       "    <tr>\n",
       "      <th>3</th>\n",
       "      <td>freeman-tukey</td>\n",
       "      <td>-0.500000</td>\n",
       "      <td>0.021319</td>\n",
       "      <td>1.0</td>\n",
       "      <td>0.883914</td>\n",
       "      <td>0.002274</td>\n",
       "      <td>0.052446</td>\n",
       "    </tr>\n",
       "    <tr>\n",
       "      <th>4</th>\n",
       "      <td>mod-log-likelihood</td>\n",
       "      <td>-1.000000</td>\n",
       "      <td>0.021334</td>\n",
       "      <td>1.0</td>\n",
       "      <td>0.883873</td>\n",
       "      <td>0.002275</td>\n",
       "      <td>0.052447</td>\n",
       "    </tr>\n",
       "    <tr>\n",
       "      <th>5</th>\n",
       "      <td>neyman</td>\n",
       "      <td>-2.000000</td>\n",
       "      <td>0.021364</td>\n",
       "      <td>1.0</td>\n",
       "      <td>0.883791</td>\n",
       "      <td>0.002276</td>\n",
       "      <td>0.052451</td>\n",
       "    </tr>\n",
       "  </tbody>\n",
       "</table>\n",
       "</div>"
      ],
      "text/plain": [
       "                 test    lambda      chi2  dof      pval    cramer     power\n",
       "0             pearson  1.000000  0.021274  1.0  0.884034  0.002272  0.052441\n",
       "1        cressie-read  0.666667  0.021284  1.0  0.884008  0.002272  0.052442\n",
       "2      log-likelihood  0.000000  0.021304  1.0  0.883954  0.002273  0.052444\n",
       "3       freeman-tukey -0.500000  0.021319  1.0  0.883914  0.002274  0.052446\n",
       "4  mod-log-likelihood -1.000000  0.021334  1.0  0.883873  0.002275  0.052447\n",
       "5              neyman -2.000000  0.021364  1.0  0.883791  0.002276  0.052451"
      ]
     },
     "execution_count": 94,
     "metadata": {},
     "output_type": "execute_result"
    }
   ],
   "source": [
    "# проверим статистическую значимость изменений через Хи квадрат\n",
    "# используем хи квадрат так как 'is_canctled' это событие\n",
    "\n",
    "exp, obs, stats = pg.chi2_independence(data = users,\n",
    "                                     x = 'group',\n",
    "                                     y = 'is_canctled')\n",
    "stats"
   ]
  },
  {
   "cell_type": "markdown",
   "id": "7c009053",
   "metadata": {},
   "source": [
    "**Получили интересный результат:**\n",
    "\n",
    "**pval > 0.05, мы не можем говорить, о статистически значимых различиях  \n",
    "cramer - это коэфициент корреляции - показывает на сколько сильно проявилось данное различие, в нашем случае 0.002 это говорит о том, что количество отмен не изменилось**\n",
    "\n",
    "**Вывод: увеличение количества отмен, связано с тем, что увеличилось число заказов**"
   ]
  },
  {
   "cell_type": "markdown",
   "id": "709ca429",
   "metadata": {},
   "source": [
    "### Сравним среднее число заказов на каждого пользователя"
   ]
  },
  {
   "cell_type": "code",
   "execution_count": 95,
   "id": "13928dff",
   "metadata": {},
   "outputs": [
    {
     "data": {
      "text/html": [
       "<div>\n",
       "<style scoped>\n",
       "    .dataframe tbody tr th:only-of-type {\n",
       "        vertical-align: middle;\n",
       "    }\n",
       "\n",
       "    .dataframe tbody tr th {\n",
       "        vertical-align: top;\n",
       "    }\n",
       "\n",
       "    .dataframe thead th {\n",
       "        text-align: right;\n",
       "    }\n",
       "</style>\n",
       "<table border=\"1\" class=\"dataframe\">\n",
       "  <thead>\n",
       "    <tr style=\"text-align: right;\">\n",
       "      <th></th>\n",
       "      <th>group</th>\n",
       "      <th>size</th>\n",
       "    </tr>\n",
       "  </thead>\n",
       "  <tbody>\n",
       "    <tr>\n",
       "      <th>0</th>\n",
       "      <td>0</td>\n",
       "      <td>1609</td>\n",
       "    </tr>\n",
       "    <tr>\n",
       "      <th>1</th>\n",
       "      <td>1</td>\n",
       "      <td>2514</td>\n",
       "    </tr>\n",
       "  </tbody>\n",
       "</table>\n",
       "</div>"
      ],
      "text/plain": [
       "   group  size\n",
       "0      0  1609\n",
       "1      1  2514"
      ]
     },
     "execution_count": 95,
     "metadata": {},
     "output_type": "execute_result"
    }
   ],
   "source": [
    "# сгруппируем пользователей по группам и посчитам размер получившихся строк\n",
    "users.groupby('group', as_index=False).size()\n",
    "\n",
    "# в тестовой группе (новой версии приложения) количество заказов больше"
   ]
  },
  {
   "cell_type": "code",
   "execution_count": 96,
   "id": "ccce670f",
   "metadata": {},
   "outputs": [
    {
     "data": {
      "text/html": [
       "<div>\n",
       "<style scoped>\n",
       "    .dataframe tbody tr th:only-of-type {\n",
       "        vertical-align: middle;\n",
       "    }\n",
       "\n",
       "    .dataframe tbody tr th {\n",
       "        vertical-align: top;\n",
       "    }\n",
       "\n",
       "    .dataframe thead th {\n",
       "        text-align: right;\n",
       "    }\n",
       "</style>\n",
       "<table border=\"1\" class=\"dataframe\">\n",
       "  <thead>\n",
       "    <tr style=\"text-align: right;\">\n",
       "      <th></th>\n",
       "      <th>group</th>\n",
       "      <th>user_id</th>\n",
       "      <th>size</th>\n",
       "    </tr>\n",
       "  </thead>\n",
       "  <tbody>\n",
       "    <tr>\n",
       "      <th>0</th>\n",
       "      <td>0</td>\n",
       "      <td>964</td>\n",
       "      <td>2</td>\n",
       "    </tr>\n",
       "    <tr>\n",
       "      <th>1</th>\n",
       "      <td>0</td>\n",
       "      <td>966</td>\n",
       "      <td>1</td>\n",
       "    </tr>\n",
       "    <tr>\n",
       "      <th>2</th>\n",
       "      <td>0</td>\n",
       "      <td>968</td>\n",
       "      <td>3</td>\n",
       "    </tr>\n",
       "    <tr>\n",
       "      <th>3</th>\n",
       "      <td>0</td>\n",
       "      <td>969</td>\n",
       "      <td>2</td>\n",
       "    </tr>\n",
       "    <tr>\n",
       "      <th>4</th>\n",
       "      <td>0</td>\n",
       "      <td>972</td>\n",
       "      <td>1</td>\n",
       "    </tr>\n",
       "  </tbody>\n",
       "</table>\n",
       "</div>"
      ],
      "text/plain": [
       "   group  user_id  size\n",
       "0      0      964     2\n",
       "1      0      966     1\n",
       "2      0      968     3\n",
       "3      0      969     2\n",
       "4      0      972     1"
      ]
     },
     "execution_count": 96,
     "metadata": {},
     "output_type": "execute_result"
    }
   ],
   "source": [
    "# считаем число заказов на каждого юзера\n",
    "# группируем по группам и номеру юзера\n",
    "# считаем количество строк\n",
    "\n",
    "order_por_user = users.groupby(['group', 'user_id'], as_index=False).size()\n",
    "order_por_user.head()"
   ]
  },
  {
   "cell_type": "code",
   "execution_count": 97,
   "id": "f99c9841",
   "metadata": {},
   "outputs": [
    {
     "data": {
      "text/plain": [
       "<Axes: xlabel='size', ylabel='count'>"
      ]
     },
     "execution_count": 97,
     "metadata": {},
     "output_type": "execute_result"
    },
    {
     "data": {
      "image/png": "[encoded data removed]",
      "text/plain": [
       "<Figure size 640x480 with 1 Axes>"
      ]
     },
     "metadata": {},
     "output_type": "display_data"
    }
   ],
   "source": [
    "# посмотрим на графике количество заказов на одного пользователя\n",
    "sns.countplot(data = order_por_user, x = 'size', hue = 'group')\n",
    "\n",
    "# из графика видно что в контрольной группе смещение в более меньшее кол-во заказов\n",
    "# в тестовой группе смешение в большее количество заказов на одного пользователя"
   ]
  },
  {
   "cell_type": "code",
   "execution_count": 98,
   "id": "e44fb1a8",
   "metadata": {},
   "outputs": [
    {
     "data": {
      "text/html": [
       "<div>\n",
       "<style scoped>\n",
       "    .dataframe tbody tr th:only-of-type {\n",
       "        vertical-align: middle;\n",
       "    }\n",
       "\n",
       "    .dataframe tbody tr th {\n",
       "        vertical-align: top;\n",
       "    }\n",
       "\n",
       "    .dataframe thead th {\n",
       "        text-align: right;\n",
       "    }\n",
       "</style>\n",
       "<table border=\"1\" class=\"dataframe\">\n",
       "  <thead>\n",
       "    <tr style=\"text-align: right;\">\n",
       "      <th></th>\n",
       "      <th>T</th>\n",
       "      <th>dof</th>\n",
       "      <th>alternative</th>\n",
       "      <th>p-val</th>\n",
       "      <th>CI95%</th>\n",
       "      <th>cohen-d</th>\n",
       "      <th>BF10</th>\n",
       "      <th>power</th>\n",
       "    </tr>\n",
       "  </thead>\n",
       "  <tbody>\n",
       "    <tr>\n",
       "      <th>T-test</th>\n",
       "      <td>-14.485157</td>\n",
       "      <td>988.435475</td>\n",
       "      <td>two-sided</td>\n",
       "      <td>2.907783e-43</td>\n",
       "      <td>[-2.14, -1.63]</td>\n",
       "      <td>0.910119</td>\n",
       "      <td>7.663e+39</td>\n",
       "      <td>1.0</td>\n",
       "    </tr>\n",
       "  </tbody>\n",
       "</table>\n",
       "</div>"
      ],
      "text/plain": [
       "                T         dof alternative         p-val           CI95%  \\\n",
       "T-test -14.485157  988.435475   two-sided  2.907783e-43  [-2.14, -1.63]   \n",
       "\n",
       "         cohen-d       BF10  power  \n",
       "T-test  0.910119  7.663e+39    1.0  "
      ]
     },
     "execution_count": 98,
     "metadata": {},
     "output_type": "execute_result"
    }
   ],
   "source": [
    "# сравним наши данные с помощью T-test\n",
    "\n",
    "pg.ttest(x = order_por_user.query('group == 0')['size'],\n",
    "        y = order_por_user.query('group == 1')['size'])\n",
    "\n",
    "# получили статистически значимые различия между нашими группами \n",
    "# p-val = 2.907783e-43\n",
    "\n",
    "# кол-во покупок на 1 пользователя в контрольной группе меньше \n",
    "# на [-2.14, -1.63], в среднем 2 заказа на пользователя"
   ]
  },
  {
   "cell_type": "markdown",
   "id": "b0390c7a",
   "metadata": {},
   "source": [
    "**получили статистически значимые различия между нашими группами p-val = 2.907783e-43**\n",
    "\n",
    "**Вывод: кол-во покупок на 1 пользователя в тестовой группе больше на [-2.14, -1.63], в среднем 2 заказа на пользователя**"
   ]
  },
  {
   "cell_type": "markdown",
   "id": "e704d1c6",
   "metadata": {},
   "source": [
    "### Сравним среднее число позиций товаров в заказе"
   ]
  },
  {
   "cell_type": "code",
   "execution_count": 99,
   "id": "c54cbddc",
   "metadata": {},
   "outputs": [
    {
     "data": {
      "text/html": [
       "<div>\n",
       "<style scoped>\n",
       "    .dataframe tbody tr th:only-of-type {\n",
       "        vertical-align: middle;\n",
       "    }\n",
       "\n",
       "    .dataframe tbody tr th {\n",
       "        vertical-align: top;\n",
       "    }\n",
       "\n",
       "    .dataframe thead th {\n",
       "        text-align: right;\n",
       "    }\n",
       "</style>\n",
       "<table border=\"1\" class=\"dataframe\">\n",
       "  <thead>\n",
       "    <tr style=\"text-align: right;\">\n",
       "      <th></th>\n",
       "      <th>user_id</th>\n",
       "      <th>order_id</th>\n",
       "      <th>group</th>\n",
       "      <th>creation_time</th>\n",
       "      <th>product_ids</th>\n",
       "    </tr>\n",
       "  </thead>\n",
       "  <tbody>\n",
       "    <tr>\n",
       "      <th>0</th>\n",
       "      <td>964</td>\n",
       "      <td>1255</td>\n",
       "      <td>0</td>\n",
       "      <td>2022-08-26 00:00:19.000000</td>\n",
       "      <td>{75, 22, 53, 84}</td>\n",
       "    </tr>\n",
       "    <tr>\n",
       "      <th>1</th>\n",
       "      <td>965</td>\n",
       "      <td>1256</td>\n",
       "      <td>1</td>\n",
       "      <td>2022-08-26 00:02:21.000000</td>\n",
       "      <td>{56, 76, 39}</td>\n",
       "    </tr>\n",
       "    <tr>\n",
       "      <th>2</th>\n",
       "      <td>964</td>\n",
       "      <td>1257</td>\n",
       "      <td>0</td>\n",
       "      <td>2022-08-26 00:02:27.000000</td>\n",
       "      <td>{76, 34, 41, 38}</td>\n",
       "    </tr>\n",
       "    <tr>\n",
       "      <th>3</th>\n",
       "      <td>966</td>\n",
       "      <td>1258</td>\n",
       "      <td>0</td>\n",
       "      <td>2022-08-26 00:02:56.000000</td>\n",
       "      <td>{74, 6}</td>\n",
       "    </tr>\n",
       "    <tr>\n",
       "      <th>4</th>\n",
       "      <td>967</td>\n",
       "      <td>1259</td>\n",
       "      <td>1</td>\n",
       "      <td>2022-08-26 00:03:37.000000</td>\n",
       "      <td>{20, 45, 67, 26}</td>\n",
       "    </tr>\n",
       "  </tbody>\n",
       "</table>\n",
       "</div>"
      ],
      "text/plain": [
       "   user_id  order_id  group               creation_time       product_ids\n",
       "0      964      1255      0  2022-08-26 00:00:19.000000  {75, 22, 53, 84}\n",
       "1      965      1256      1  2022-08-26 00:02:21.000000      {56, 76, 39}\n",
       "2      964      1257      0  2022-08-26 00:02:27.000000  {76, 34, 41, 38}\n",
       "3      966      1258      0  2022-08-26 00:02:56.000000           {74, 6}\n",
       "4      967      1259      1  2022-08-26 00:03:37.000000  {20, 45, 67, 26}"
      ]
     },
     "execution_count": 99,
     "metadata": {},
     "output_type": "execute_result"
    }
   ],
   "source": [
    "# обьедим два df users и orders\n",
    "# из таблицы users нам нужны только столбцы  ['user_id', 'order_id', 'group']\n",
    "\n",
    "ord_content = users[['user_id', 'order_id', 'group']].merge(orders)\n",
    "ord_content.head()"
   ]
  },
  {
   "cell_type": "code",
   "execution_count": 100,
   "id": "78a39c95",
   "metadata": {},
   "outputs": [
    {
     "data": {
      "text/html": [
       "<div>\n",
       "<style scoped>\n",
       "    .dataframe tbody tr th:only-of-type {\n",
       "        vertical-align: middle;\n",
       "    }\n",
       "\n",
       "    .dataframe tbody tr th {\n",
       "        vertical-align: top;\n",
       "    }\n",
       "\n",
       "    .dataframe thead th {\n",
       "        text-align: right;\n",
       "    }\n",
       "</style>\n",
       "<table border=\"1\" class=\"dataframe\">\n",
       "  <thead>\n",
       "    <tr style=\"text-align: right;\">\n",
       "      <th></th>\n",
       "      <th>user_id</th>\n",
       "      <th>order_id</th>\n",
       "      <th>group</th>\n",
       "      <th>creation_time</th>\n",
       "      <th>product_ids</th>\n",
       "    </tr>\n",
       "  </thead>\n",
       "  <tbody>\n",
       "    <tr>\n",
       "      <th>0</th>\n",
       "      <td>964</td>\n",
       "      <td>1255</td>\n",
       "      <td>0</td>\n",
       "      <td>2022-08-26 00:00:19.000000</td>\n",
       "      <td>75</td>\n",
       "    </tr>\n",
       "    <tr>\n",
       "      <th>0</th>\n",
       "      <td>964</td>\n",
       "      <td>1255</td>\n",
       "      <td>0</td>\n",
       "      <td>2022-08-26 00:00:19.000000</td>\n",
       "      <td>22</td>\n",
       "    </tr>\n",
       "    <tr>\n",
       "      <th>0</th>\n",
       "      <td>964</td>\n",
       "      <td>1255</td>\n",
       "      <td>0</td>\n",
       "      <td>2022-08-26 00:00:19.000000</td>\n",
       "      <td>53</td>\n",
       "    </tr>\n",
       "    <tr>\n",
       "      <th>0</th>\n",
       "      <td>964</td>\n",
       "      <td>1255</td>\n",
       "      <td>0</td>\n",
       "      <td>2022-08-26 00:00:19.000000</td>\n",
       "      <td>84</td>\n",
       "    </tr>\n",
       "    <tr>\n",
       "      <th>1</th>\n",
       "      <td>965</td>\n",
       "      <td>1256</td>\n",
       "      <td>1</td>\n",
       "      <td>2022-08-26 00:02:21.000000</td>\n",
       "      <td>56</td>\n",
       "    </tr>\n",
       "  </tbody>\n",
       "</table>\n",
       "</div>"
      ],
      "text/plain": [
       "   user_id  order_id  group               creation_time product_ids\n",
       "0      964      1255      0  2022-08-26 00:00:19.000000          75\n",
       "0      964      1255      0  2022-08-26 00:00:19.000000          22\n",
       "0      964      1255      0  2022-08-26 00:00:19.000000          53\n",
       "0      964      1255      0  2022-08-26 00:00:19.000000          84\n",
       "1      965      1256      1  2022-08-26 00:02:21.000000          56"
      ]
     },
     "execution_count": 100,
     "metadata": {},
     "output_type": "execute_result"
    }
   ],
   "source": [
    "# теперь нам надо преобразовать колонку product_ids\n",
    "\n",
    "# strip('{}') убираем фигурные скобки\n",
    "# str.split(', ') и делаем полноценный список\n",
    "# далее используем метод explode на этом списке\n",
    "\n",
    "ord_content['product_ids'] = ord_content.product_ids.str.strip('{}').str.split(', ')\n",
    "ord_content_exp1 = ord_content.explode('product_ids')\n",
    "\n",
    "ord_content_exp1.head()\n",
    "# теперь у нас заказы разбились на несколько частей \n",
    "# количество частей соответствует количеству product_ids в каждом заказе"
   ]
  },
  {
   "cell_type": "code",
   "execution_count": 101,
   "id": "400f5d41",
   "metadata": {},
   "outputs": [
    {
     "data": {
      "text/html": [
       "<div>\n",
       "<style scoped>\n",
       "    .dataframe tbody tr th:only-of-type {\n",
       "        vertical-align: middle;\n",
       "    }\n",
       "\n",
       "    .dataframe tbody tr th {\n",
       "        vertical-align: top;\n",
       "    }\n",
       "\n",
       "    .dataframe thead th {\n",
       "        text-align: right;\n",
       "    }\n",
       "</style>\n",
       "<table border=\"1\" class=\"dataframe\">\n",
       "  <thead>\n",
       "    <tr style=\"text-align: right;\">\n",
       "      <th></th>\n",
       "      <th>group</th>\n",
       "      <th>order_id</th>\n",
       "      <th>size</th>\n",
       "    </tr>\n",
       "  </thead>\n",
       "  <tbody>\n",
       "    <tr>\n",
       "      <th>0</th>\n",
       "      <td>0</td>\n",
       "      <td>1255</td>\n",
       "      <td>4</td>\n",
       "    </tr>\n",
       "    <tr>\n",
       "      <th>1</th>\n",
       "      <td>0</td>\n",
       "      <td>1257</td>\n",
       "      <td>4</td>\n",
       "    </tr>\n",
       "    <tr>\n",
       "      <th>2</th>\n",
       "      <td>0</td>\n",
       "      <td>1258</td>\n",
       "      <td>2</td>\n",
       "    </tr>\n",
       "    <tr>\n",
       "      <th>3</th>\n",
       "      <td>0</td>\n",
       "      <td>1261</td>\n",
       "      <td>4</td>\n",
       "    </tr>\n",
       "    <tr>\n",
       "      <th>4</th>\n",
       "      <td>0</td>\n",
       "      <td>1262</td>\n",
       "      <td>4</td>\n",
       "    </tr>\n",
       "  </tbody>\n",
       "</table>\n",
       "</div>"
      ],
      "text/plain": [
       "   group  order_id  size\n",
       "0      0      1255     4\n",
       "1      0      1257     4\n",
       "2      0      1258     2\n",
       "3      0      1261     4\n",
       "4      0      1262     4"
      ]
     },
     "execution_count": 101,
     "metadata": {},
     "output_type": "execute_result"
    }
   ],
   "source": [
    "# сгруппируем по order_id и group и посчитаем количество product_ids\n",
    "# в каждом заказе\n",
    "\n",
    "item_per_order = ord_content_exp1.groupby(['group', 'order_id'], as_index=False).size()\n",
    "item_per_order.head()"
   ]
  },
  {
   "cell_type": "code",
   "execution_count": 102,
   "id": "8901199a",
   "metadata": {},
   "outputs": [
    {
     "data": {
      "text/plain": [
       "<Axes: xlabel='size', ylabel='count'>"
      ]
     },
     "execution_count": 102,
     "metadata": {},
     "output_type": "execute_result"
    },
    {
     "data": {
      "image/png": "[encoded data removed]",
      "text/plain": [
       "<Figure size 640x480 with 1 Axes>"
      ]
     },
     "metadata": {},
     "output_type": "display_data"
    }
   ],
   "source": [
    "# посмотрим на графике число позиций в заказе\n",
    "\n",
    "sns.countplot(data = item_per_order, x = 'size', hue = 'group')\n",
    "\n",
    "# очень похожие распределения\n",
    "# столбики повыше в тестовой группе\n",
    "# так как количество заказов стало больше"
   ]
  },
  {
   "cell_type": "code",
   "execution_count": 104,
   "id": "a4762b55",
   "metadata": {},
   "outputs": [
    {
     "data": {
      "text/html": [
       "<div>\n",
       "<style scoped>\n",
       "    .dataframe tbody tr th:only-of-type {\n",
       "        vertical-align: middle;\n",
       "    }\n",
       "\n",
       "    .dataframe tbody tr th {\n",
       "        vertical-align: top;\n",
       "    }\n",
       "\n",
       "    .dataframe thead th {\n",
       "        text-align: right;\n",
       "    }\n",
       "</style>\n",
       "<table border=\"1\" class=\"dataframe\">\n",
       "  <thead>\n",
       "    <tr style=\"text-align: right;\">\n",
       "      <th></th>\n",
       "      <th>T</th>\n",
       "      <th>dof</th>\n",
       "      <th>alternative</th>\n",
       "      <th>p-val</th>\n",
       "      <th>CI95%</th>\n",
       "      <th>cohen-d</th>\n",
       "      <th>BF10</th>\n",
       "      <th>power</th>\n",
       "    </tr>\n",
       "  </thead>\n",
       "  <tbody>\n",
       "    <tr>\n",
       "      <th>T-test</th>\n",
       "      <td>-0.138556</td>\n",
       "      <td>3469.224056</td>\n",
       "      <td>two-sided</td>\n",
       "      <td>0.889809</td>\n",
       "      <td>[-0.09, 0.07]</td>\n",
       "      <td>0.004407</td>\n",
       "      <td>0.036</td>\n",
       "      <td>0.052185</td>\n",
       "    </tr>\n",
       "  </tbody>\n",
       "</table>\n",
       "</div>"
      ],
      "text/plain": [
       "               T          dof alternative     p-val          CI95%   cohen-d  \\\n",
       "T-test -0.138556  3469.224056   two-sided  0.889809  [-0.09, 0.07]  0.004407   \n",
       "\n",
       "         BF10     power  \n",
       "T-test  0.036  0.052185  "
      ]
     },
     "execution_count": 104,
     "metadata": {},
     "output_type": "execute_result"
    }
   ],
   "source": [
    "# проверим на сколько статистически значимы наши различия \n",
    "\n",
    "pg.ttest(x = item_per_order.query('group == 0')['size'],\n",
    "        y = item_per_order.query('group == 1')['size'])\n",
    "\n",
    "# мы не получили статистически значимые различия между нашими группами \n",
    "# p-val = 0.889809"
   ]
  },
  {
   "cell_type": "markdown",
   "id": "61002347",
   "metadata": {},
   "source": [
    "**При сравнении среднего количества позиций товаров в заказе мы не получили статистически значимые различия между нашими группами p-val = 0.889809    \n",
    "Вывод: новая система рекомендаций не повлияла на количество позиций товаров в заказе**"
   ]
  },
  {
   "cell_type": "markdown",
   "id": "cd1832bb",
   "metadata": {},
   "source": [
    "### Сравним средний чек в тестовой и контрольной группе"
   ]
  },
  {
   "cell_type": "code",
   "execution_count": 105,
   "id": "058f38be",
   "metadata": {},
   "outputs": [
    {
     "data": {
      "text/html": [
       "<div>\n",
       "<style scoped>\n",
       "    .dataframe tbody tr th:only-of-type {\n",
       "        vertical-align: middle;\n",
       "    }\n",
       "\n",
       "    .dataframe tbody tr th {\n",
       "        vertical-align: top;\n",
       "    }\n",
       "\n",
       "    .dataframe thead th {\n",
       "        text-align: right;\n",
       "    }\n",
       "</style>\n",
       "<table border=\"1\" class=\"dataframe\">\n",
       "  <thead>\n",
       "    <tr style=\"text-align: right;\">\n",
       "      <th></th>\n",
       "      <th>user_id</th>\n",
       "      <th>order_id</th>\n",
       "      <th>group</th>\n",
       "      <th>creation_time</th>\n",
       "      <th>product_ids</th>\n",
       "    </tr>\n",
       "  </thead>\n",
       "  <tbody>\n",
       "    <tr>\n",
       "      <th>0</th>\n",
       "      <td>964</td>\n",
       "      <td>1255</td>\n",
       "      <td>0</td>\n",
       "      <td>2022-08-26 00:00:19.000000</td>\n",
       "      <td>75</td>\n",
       "    </tr>\n",
       "    <tr>\n",
       "      <th>0</th>\n",
       "      <td>964</td>\n",
       "      <td>1255</td>\n",
       "      <td>0</td>\n",
       "      <td>2022-08-26 00:00:19.000000</td>\n",
       "      <td>22</td>\n",
       "    </tr>\n",
       "    <tr>\n",
       "      <th>0</th>\n",
       "      <td>964</td>\n",
       "      <td>1255</td>\n",
       "      <td>0</td>\n",
       "      <td>2022-08-26 00:00:19.000000</td>\n",
       "      <td>53</td>\n",
       "    </tr>\n",
       "    <tr>\n",
       "      <th>0</th>\n",
       "      <td>964</td>\n",
       "      <td>1255</td>\n",
       "      <td>0</td>\n",
       "      <td>2022-08-26 00:00:19.000000</td>\n",
       "      <td>84</td>\n",
       "    </tr>\n",
       "    <tr>\n",
       "      <th>1</th>\n",
       "      <td>965</td>\n",
       "      <td>1256</td>\n",
       "      <td>1</td>\n",
       "      <td>2022-08-26 00:02:21.000000</td>\n",
       "      <td>56</td>\n",
       "    </tr>\n",
       "  </tbody>\n",
       "</table>\n",
       "</div>"
      ],
      "text/plain": [
       "   user_id  order_id  group               creation_time product_ids\n",
       "0      964      1255      0  2022-08-26 00:00:19.000000          75\n",
       "0      964      1255      0  2022-08-26 00:00:19.000000          22\n",
       "0      964      1255      0  2022-08-26 00:00:19.000000          53\n",
       "0      964      1255      0  2022-08-26 00:00:19.000000          84\n",
       "1      965      1256      1  2022-08-26 00:02:21.000000          56"
      ]
     },
     "execution_count": 105,
     "metadata": {},
     "output_type": "execute_result"
    }
   ],
   "source": [
    "# используем наш готовый df ord_content_exp1\n",
    "\n",
    "ord_content_exp1.head()"
   ]
  },
  {
   "cell_type": "code",
   "execution_count": 106,
   "id": "4298eedc",
   "metadata": {},
   "outputs": [
    {
     "data": {
      "text/plain": [
       "user_id           int64\n",
       "order_id          int64\n",
       "group             int64\n",
       "creation_time    object\n",
       "product_ids      object\n",
       "dtype: object"
      ]
     },
     "execution_count": 106,
     "metadata": {},
     "output_type": "execute_result"
    }
   ],
   "source": [
    "# проверим типы колонок\n",
    "\n",
    "ord_content_exp1.dtypes"
   ]
  },
  {
   "cell_type": "code",
   "execution_count": 107,
   "id": "fa0aa62e",
   "metadata": {},
   "outputs": [],
   "source": [
    "# новая колонка product_ids оказалась object, конвертируем ее на int64\n",
    "\n",
    "ord_content_exp1.product_ids = ord_content_exp1.product_ids.astype(np.int64)"
   ]
  },
  {
   "cell_type": "code",
   "execution_count": 108,
   "id": "f32acd8f",
   "metadata": {},
   "outputs": [
    {
     "data": {
      "text/plain": [
       "user_id           int64\n",
       "order_id          int64\n",
       "group             int64\n",
       "creation_time    object\n",
       "product_ids       int64\n",
       "dtype: object"
      ]
     },
     "execution_count": 108,
     "metadata": {},
     "output_type": "execute_result"
    }
   ],
   "source": [
    "# проверим, что все получилось\n",
    "\n",
    "ord_content_exp1.dtypes"
   ]
  },
  {
   "cell_type": "code",
   "execution_count": 109,
   "id": "3782b90f",
   "metadata": {},
   "outputs": [
    {
     "data": {
      "text/html": [
       "<div>\n",
       "<style scoped>\n",
       "    .dataframe tbody tr th:only-of-type {\n",
       "        vertical-align: middle;\n",
       "    }\n",
       "\n",
       "    .dataframe tbody tr th {\n",
       "        vertical-align: top;\n",
       "    }\n",
       "\n",
       "    .dataframe thead th {\n",
       "        text-align: right;\n",
       "    }\n",
       "</style>\n",
       "<table border=\"1\" class=\"dataframe\">\n",
       "  <thead>\n",
       "    <tr style=\"text-align: right;\">\n",
       "      <th></th>\n",
       "      <th>user_id</th>\n",
       "      <th>order_id</th>\n",
       "      <th>group</th>\n",
       "      <th>creation_time</th>\n",
       "      <th>product_ids</th>\n",
       "      <th>product_id</th>\n",
       "      <th>name</th>\n",
       "      <th>price</th>\n",
       "    </tr>\n",
       "  </thead>\n",
       "  <tbody>\n",
       "    <tr>\n",
       "      <th>0</th>\n",
       "      <td>964</td>\n",
       "      <td>1255</td>\n",
       "      <td>0</td>\n",
       "      <td>2022-08-26 00:00:19.000000</td>\n",
       "      <td>75</td>\n",
       "      <td>75</td>\n",
       "      <td>сок ананасовый</td>\n",
       "      <td>120.0</td>\n",
       "    </tr>\n",
       "    <tr>\n",
       "      <th>371</th>\n",
       "      <td>964</td>\n",
       "      <td>1255</td>\n",
       "      <td>0</td>\n",
       "      <td>2022-08-26 00:00:19.000000</td>\n",
       "      <td>84</td>\n",
       "      <td>84</td>\n",
       "      <td>мандарины</td>\n",
       "      <td>90.4</td>\n",
       "    </tr>\n",
       "    <tr>\n",
       "      <th>205</th>\n",
       "      <td>964</td>\n",
       "      <td>1255</td>\n",
       "      <td>0</td>\n",
       "      <td>2022-08-26 00:00:19.000000</td>\n",
       "      <td>53</td>\n",
       "      <td>53</td>\n",
       "      <td>мука</td>\n",
       "      <td>78.3</td>\n",
       "    </tr>\n",
       "    <tr>\n",
       "      <th>118</th>\n",
       "      <td>964</td>\n",
       "      <td>1255</td>\n",
       "      <td>0</td>\n",
       "      <td>2022-08-26 00:00:19.000000</td>\n",
       "      <td>22</td>\n",
       "      <td>22</td>\n",
       "      <td>сок мультифрукт</td>\n",
       "      <td>120.0</td>\n",
       "    </tr>\n",
       "    <tr>\n",
       "      <th>837</th>\n",
       "      <td>965</td>\n",
       "      <td>1256</td>\n",
       "      <td>1</td>\n",
       "      <td>2022-08-26 00:02:21.000000</td>\n",
       "      <td>76</td>\n",
       "      <td>76</td>\n",
       "      <td>чай черный в пакетиках</td>\n",
       "      <td>55.5</td>\n",
       "    </tr>\n",
       "  </tbody>\n",
       "</table>\n",
       "</div>"
      ],
      "text/plain": [
       "     user_id  order_id  group               creation_time  product_ids  \\\n",
       "0        964      1255      0  2022-08-26 00:00:19.000000           75   \n",
       "371      964      1255      0  2022-08-26 00:00:19.000000           84   \n",
       "205      964      1255      0  2022-08-26 00:00:19.000000           53   \n",
       "118      964      1255      0  2022-08-26 00:00:19.000000           22   \n",
       "837      965      1256      1  2022-08-26 00:02:21.000000           76   \n",
       "\n",
       "     product_id                    name  price  \n",
       "0            75          сок ананасовый  120.0  \n",
       "371          84               мандарины   90.4  \n",
       "205          53                    мука   78.3  \n",
       "118          22         сок мультифрукт  120.0  \n",
       "837          76  чай черный в пакетиках   55.5  "
      ]
     },
     "execution_count": 109,
     "metadata": {},
     "output_type": "execute_result"
    }
   ],
   "source": [
    "# обьединим два df ord_content_exp1 и products\n",
    "# будем обьединять по колонкам 'product_ids' в ord_content_exp1 \n",
    "# и 'product_id' в products\n",
    "\n",
    "ord_prices = ord_content_exp1.merge(products, left_on = 'product_ids', right_on='product_id')\n",
    "ord_prices.sort_values('order_id').head()"
   ]
  },
  {
   "cell_type": "code",
   "execution_count": 110,
   "id": "2b21c3df",
   "metadata": {},
   "outputs": [
    {
     "data": {
      "text/html": [
       "<div>\n",
       "<style scoped>\n",
       "    .dataframe tbody tr th:only-of-type {\n",
       "        vertical-align: middle;\n",
       "    }\n",
       "\n",
       "    .dataframe tbody tr th {\n",
       "        vertical-align: top;\n",
       "    }\n",
       "\n",
       "    .dataframe thead th {\n",
       "        text-align: right;\n",
       "    }\n",
       "</style>\n",
       "<table border=\"1\" class=\"dataframe\">\n",
       "  <thead>\n",
       "    <tr style=\"text-align: right;\">\n",
       "      <th></th>\n",
       "      <th>group</th>\n",
       "      <th>order_id</th>\n",
       "      <th>price</th>\n",
       "    </tr>\n",
       "  </thead>\n",
       "  <tbody>\n",
       "    <tr>\n",
       "      <th>0</th>\n",
       "      <td>0</td>\n",
       "      <td>1255</td>\n",
       "      <td>408.7</td>\n",
       "    </tr>\n",
       "    <tr>\n",
       "      <th>1</th>\n",
       "      <td>0</td>\n",
       "      <td>1257</td>\n",
       "      <td>310.2</td>\n",
       "    </tr>\n",
       "    <tr>\n",
       "      <th>2</th>\n",
       "      <td>0</td>\n",
       "      <td>1258</td>\n",
       "      <td>85.0</td>\n",
       "    </tr>\n",
       "    <tr>\n",
       "      <th>3</th>\n",
       "      <td>0</td>\n",
       "      <td>1261</td>\n",
       "      <td>430.7</td>\n",
       "    </tr>\n",
       "    <tr>\n",
       "      <th>4</th>\n",
       "      <td>0</td>\n",
       "      <td>1262</td>\n",
       "      <td>358.6</td>\n",
       "    </tr>\n",
       "  </tbody>\n",
       "</table>\n",
       "</div>"
      ],
      "text/plain": [
       "   group  order_id  price\n",
       "0      0      1255  408.7\n",
       "1      0      1257  310.2\n",
       "2      0      1258   85.0\n",
       "3      0      1261  430.7\n",
       "4      0      1262  358.6"
      ]
     },
     "execution_count": 110,
     "metadata": {},
     "output_type": "execute_result"
    }
   ],
   "source": [
    "# посчитаем стоимость каждого заказа\n",
    "# для этого сгруппируем по order_id и проссумируем price\n",
    "\n",
    "value_per_order = ord_prices.groupby(['group', 'order_id'], as_index = False).price.sum()\n",
    "value_per_order.head()"
   ]
  },
  {
   "cell_type": "code",
   "execution_count": 111,
   "id": "2872741a",
   "metadata": {},
   "outputs": [
    {
     "data": {
      "text/plain": [
       "<Axes: xlabel='price', ylabel='Count'>"
      ]
     },
     "execution_count": 111,
     "metadata": {},
     "output_type": "execute_result"
    },
    {
     "data": {
      "image/png": "[encoded data removed]",
      "text/plain": [
       "<Figure size 640x480 with 1 Axes>"
      ]
     },
     "metadata": {},
     "output_type": "display_data"
    }
   ],
   "source": [
    "# посмотрим на графике\n",
    "\n",
    "sns.histplot(data = value_per_order, x = 'price', hue = 'group')\n",
    "\n",
    "# видим что в стоимости заказа различий нет\n",
    "# только в количестве заказов"
   ]
  },
  {
   "cell_type": "code",
   "execution_count": 112,
   "id": "f73c79f5",
   "metadata": {},
   "outputs": [
    {
     "data": {
      "text/html": [
       "<div>\n",
       "<style scoped>\n",
       "    .dataframe tbody tr th:only-of-type {\n",
       "        vertical-align: middle;\n",
       "    }\n",
       "\n",
       "    .dataframe tbody tr th {\n",
       "        vertical-align: top;\n",
       "    }\n",
       "\n",
       "    .dataframe thead th {\n",
       "        text-align: right;\n",
       "    }\n",
       "</style>\n",
       "<table border=\"1\" class=\"dataframe\">\n",
       "  <thead>\n",
       "    <tr style=\"text-align: right;\">\n",
       "      <th></th>\n",
       "      <th>T</th>\n",
       "      <th>dof</th>\n",
       "      <th>alternative</th>\n",
       "      <th>p-val</th>\n",
       "      <th>CI95%</th>\n",
       "      <th>cohen-d</th>\n",
       "      <th>BF10</th>\n",
       "      <th>power</th>\n",
       "    </tr>\n",
       "  </thead>\n",
       "  <tbody>\n",
       "    <tr>\n",
       "      <th>T-test</th>\n",
       "      <td>1.483514</td>\n",
       "      <td>3441.720793</td>\n",
       "      <td>two-sided</td>\n",
       "      <td>0.13803</td>\n",
       "      <td>[-3.75, 27.08]</td>\n",
       "      <td>0.047301</td>\n",
       "      <td>0.108</td>\n",
       "      <td>0.316351</td>\n",
       "    </tr>\n",
       "  </tbody>\n",
       "</table>\n",
       "</div>"
      ],
      "text/plain": [
       "               T          dof alternative    p-val           CI95%   cohen-d  \\\n",
       "T-test  1.483514  3441.720793   two-sided  0.13803  [-3.75, 27.08]  0.047301   \n",
       "\n",
       "         BF10     power  \n",
       "T-test  0.108  0.316351  "
      ]
     },
     "execution_count": 112,
     "metadata": {},
     "output_type": "execute_result"
    }
   ],
   "source": [
    "# проверим на сколько статистически значимы наши различия с помощью T-test\n",
    "\n",
    "pg.ttest(x = value_per_order.query('group == 0')['price'],\n",
    "        y = value_per_order.query('group == 1')['price'])\n",
    "\n",
    "# мы не получили статистически значимые различия между нашими группами \n",
    "# p-val = 0.13803"
   ]
  },
  {
   "cell_type": "markdown",
   "id": "637df217",
   "metadata": {},
   "source": [
    "**При сравнении среднего чека в тестовой и контрольной группе мы не получили статистически значимые различия между нашими группами p-val = 0.13803**\n",
    "\n",
    "Вывод: новая система рекомендаций не повлияла на средний чек**"
   ]
  },
  {
   "cell_type": "markdown",
   "id": "11159dad",
   "metadata": {},
   "source": [
    "### Сделем расчет Retention и посмотрим насколько долго клиенты остаются в нашем приложении и пользуются нашими услугами в тестовой и в контрольной группе"
   ]
  },
  {
   "cell_type": "code",
   "execution_count": 113,
   "id": "c75ec983",
   "metadata": {},
   "outputs": [
    {
     "data": {
      "text/html": [
       "<div>\n",
       "<style scoped>\n",
       "    .dataframe tbody tr th:only-of-type {\n",
       "        vertical-align: middle;\n",
       "    }\n",
       "\n",
       "    .dataframe tbody tr th {\n",
       "        vertical-align: top;\n",
       "    }\n",
       "\n",
       "    .dataframe thead th {\n",
       "        text-align: right;\n",
       "    }\n",
       "</style>\n",
       "<table border=\"1\" class=\"dataframe\">\n",
       "  <thead>\n",
       "    <tr style=\"text-align: right;\">\n",
       "      <th></th>\n",
       "      <th>user_id</th>\n",
       "      <th>order_id</th>\n",
       "      <th>group</th>\n",
       "      <th>creation_time</th>\n",
       "      <th>product_ids</th>\n",
       "    </tr>\n",
       "  </thead>\n",
       "  <tbody>\n",
       "    <tr>\n",
       "      <th>0</th>\n",
       "      <td>964</td>\n",
       "      <td>1255</td>\n",
       "      <td>0</td>\n",
       "      <td>2022-08-26 00:00:19.000000</td>\n",
       "      <td>[75, 22, 53, 84]</td>\n",
       "    </tr>\n",
       "    <tr>\n",
       "      <th>1</th>\n",
       "      <td>965</td>\n",
       "      <td>1256</td>\n",
       "      <td>1</td>\n",
       "      <td>2022-08-26 00:02:21.000000</td>\n",
       "      <td>[56, 76, 39]</td>\n",
       "    </tr>\n",
       "    <tr>\n",
       "      <th>2</th>\n",
       "      <td>964</td>\n",
       "      <td>1257</td>\n",
       "      <td>0</td>\n",
       "      <td>2022-08-26 00:02:27.000000</td>\n",
       "      <td>[76, 34, 41, 38]</td>\n",
       "    </tr>\n",
       "    <tr>\n",
       "      <th>3</th>\n",
       "      <td>966</td>\n",
       "      <td>1258</td>\n",
       "      <td>0</td>\n",
       "      <td>2022-08-26 00:02:56.000000</td>\n",
       "      <td>[74, 6]</td>\n",
       "    </tr>\n",
       "    <tr>\n",
       "      <th>4</th>\n",
       "      <td>967</td>\n",
       "      <td>1259</td>\n",
       "      <td>1</td>\n",
       "      <td>2022-08-26 00:03:37.000000</td>\n",
       "      <td>[20, 45, 67, 26]</td>\n",
       "    </tr>\n",
       "  </tbody>\n",
       "</table>\n",
       "</div>"
      ],
      "text/plain": [
       "   user_id  order_id  group               creation_time       product_ids\n",
       "0      964      1255      0  2022-08-26 00:00:19.000000  [75, 22, 53, 84]\n",
       "1      965      1256      1  2022-08-26 00:02:21.000000      [56, 76, 39]\n",
       "2      964      1257      0  2022-08-26 00:02:27.000000  [76, 34, 41, 38]\n",
       "3      966      1258      0  2022-08-26 00:02:56.000000           [74, 6]\n",
       "4      967      1259      1  2022-08-26 00:03:37.000000  [20, 45, 67, 26]"
      ]
     },
     "execution_count": 113,
     "metadata": {},
     "output_type": "execute_result"
    }
   ],
   "source": [
    "# для расчета Retention будем использовать df ord_content\n",
    "\n",
    "ord_content.head()"
   ]
  },
  {
   "cell_type": "code",
   "execution_count": 114,
   "id": "ef0db633",
   "metadata": {},
   "outputs": [
    {
     "data": {
      "text/plain": [
       "user_id           int64\n",
       "order_id          int64\n",
       "group             int64\n",
       "creation_time    object\n",
       "product_ids      object\n",
       "dtype: object"
      ]
     },
     "execution_count": 114,
     "metadata": {},
     "output_type": "execute_result"
    }
   ],
   "source": [
    "# проверим типы колонок,тк будем работать с датами в creation_time должен быть тип datetime\n",
    "\n",
    "ord_content.dtypes"
   ]
  },
  {
   "cell_type": "code",
   "execution_count": 115,
   "id": "03e2e5e3",
   "metadata": {},
   "outputs": [],
   "source": [
    "#creation_time - object, конвертируем ее в datetime\n",
    "\n",
    "ord_content.creation_time = pd.to_datetime(ord_content.creation_time)"
   ]
  },
  {
   "cell_type": "code",
   "execution_count": 116,
   "id": "9009954e",
   "metadata": {},
   "outputs": [
    {
     "data": {
      "text/plain": [
       "user_id                   int64\n",
       "order_id                  int64\n",
       "group                     int64\n",
       "creation_time    datetime64[ns]\n",
       "product_ids              object\n",
       "dtype: object"
      ]
     },
     "execution_count": 116,
     "metadata": {},
     "output_type": "execute_result"
    }
   ],
   "source": [
    "# проверим, что все получилось\n",
    "\n",
    "ord_content.dtypes"
   ]
  },
  {
   "cell_type": "code",
   "execution_count": 119,
   "id": "8eb0d182",
   "metadata": {},
   "outputs": [
    {
     "data": {
      "text/plain": [
       "count                             4123\n",
       "mean     2022-08-30 14:45:06.142372096\n",
       "min                2022-08-26 00:00:19\n",
       "25%         2022-08-26 20:14:15.500000\n",
       "50%                2022-08-29 12:37:43\n",
       "75%         2022-09-02 20:46:49.500000\n",
       "max                2022-09-08 23:41:24\n",
       "Name: creation_time, dtype: object"
      ]
     },
     "execution_count": 119,
     "metadata": {},
     "output_type": "execute_result"
    }
   ],
   "source": [
    "# посмотрим какие есть характеристики у нашего времени\n",
    "\n",
    "ord_content.creation_time.describe()\n",
    "\n",
    "# самое интересное это макс и мин время"
   ]
  },
  {
   "cell_type": "code",
   "execution_count": 120,
   "id": "afab85e2",
   "metadata": {},
   "outputs": [
    {
     "data": {
      "text/plain": [
       "Timedelta('13 days 23:41:05')"
      ]
     },
     "execution_count": 120,
     "metadata": {},
     "output_type": "execute_result"
    }
   ],
   "source": [
    "# вычтем из max min и получим длинну нашего эксперимента\n",
    "\n",
    "ord_content.creation_time.max() - ord_content.creation_time.min()\n",
    "\n",
    "# эксперимент длился две недели"
   ]
  },
  {
   "cell_type": "code",
   "execution_count": 121,
   "id": "32795571",
   "metadata": {},
   "outputs": [
    {
     "data": {
      "text/html": [
       "<div>\n",
       "<style scoped>\n",
       "    .dataframe tbody tr th:only-of-type {\n",
       "        vertical-align: middle;\n",
       "    }\n",
       "\n",
       "    .dataframe tbody tr th {\n",
       "        vertical-align: top;\n",
       "    }\n",
       "\n",
       "    .dataframe thead th {\n",
       "        text-align: right;\n",
       "    }\n",
       "</style>\n",
       "<table border=\"1\" class=\"dataframe\">\n",
       "  <thead>\n",
       "    <tr style=\"text-align: right;\">\n",
       "      <th></th>\n",
       "      <th>user_id</th>\n",
       "      <th>group</th>\n",
       "      <th>first_order</th>\n",
       "      <th>last_order</th>\n",
       "    </tr>\n",
       "  </thead>\n",
       "  <tbody>\n",
       "    <tr>\n",
       "      <th>0</th>\n",
       "      <td>964</td>\n",
       "      <td>0</td>\n",
       "      <td>2022-08-26 00:00:19</td>\n",
       "      <td>2022-08-26 00:02:27</td>\n",
       "    </tr>\n",
       "    <tr>\n",
       "      <th>1</th>\n",
       "      <td>965</td>\n",
       "      <td>1</td>\n",
       "      <td>2022-08-26 00:02:21</td>\n",
       "      <td>2022-09-04 22:24:32</td>\n",
       "    </tr>\n",
       "    <tr>\n",
       "      <th>2</th>\n",
       "      <td>966</td>\n",
       "      <td>0</td>\n",
       "      <td>2022-08-26 00:02:56</td>\n",
       "      <td>2022-08-26 00:02:56</td>\n",
       "    </tr>\n",
       "    <tr>\n",
       "      <th>3</th>\n",
       "      <td>967</td>\n",
       "      <td>1</td>\n",
       "      <td>2022-08-26 00:03:37</td>\n",
       "      <td>2022-08-28 16:41:30</td>\n",
       "    </tr>\n",
       "    <tr>\n",
       "      <th>4</th>\n",
       "      <td>968</td>\n",
       "      <td>0</td>\n",
       "      <td>2022-08-26 00:05:35</td>\n",
       "      <td>2022-08-31 05:27:34</td>\n",
       "    </tr>\n",
       "  </tbody>\n",
       "</table>\n",
       "</div>"
      ],
      "text/plain": [
       "   user_id  group         first_order          last_order\n",
       "0      964      0 2022-08-26 00:00:19 2022-08-26 00:02:27\n",
       "1      965      1 2022-08-26 00:02:21 2022-09-04 22:24:32\n",
       "2      966      0 2022-08-26 00:02:56 2022-08-26 00:02:56\n",
       "3      967      1 2022-08-26 00:03:37 2022-08-28 16:41:30\n",
       "4      968      0 2022-08-26 00:05:35 2022-08-31 05:27:34"
      ]
     },
     "execution_count": 121,
     "metadata": {},
     "output_type": "execute_result"
    }
   ],
   "source": [
    "# выявим время первого и последнего заказа для каждого клиента\n",
    "\n",
    "retention = ord_content.groupby(['user_id', 'group'], as_index=False)\\\n",
    "    .agg(first_order = ('creation_time', 'min'), last_order = ('creation_time', 'max'))\n",
    "\n",
    "retention.head()"
   ]
  },
  {
   "cell_type": "code",
   "execution_count": 122,
   "id": "76661a8e",
   "metadata": {},
   "outputs": [
    {
     "data": {
      "text/plain": [
       "count                         1017\n",
       "mean     6 days 23:27:21.923303834\n",
       "std      4 days 06:43:22.480610835\n",
       "min                0 days 00:00:00\n",
       "25%                3 days 11:27:14\n",
       "50%                7 days 15:39:20\n",
       "75%               10 days 13:37:01\n",
       "max               13 days 22:36:14\n",
       "dtype: object"
      ]
     },
     "execution_count": 122,
     "metadata": {},
     "output_type": "execute_result"
    }
   ],
   "source": [
    "# посмотрим как распределилсь характеристики первого и последнего заказа\n",
    "\n",
    "(retention.last_order - retention.first_order).describe()\n",
    "\n",
    "# mean =  6 days 23:27:21 - в среднем пользователи использовали приложение неделю\n",
    "# min =   0 days - кто-то сделали только один заказ (первый заказ был и последним)\n",
    "# max =   13 days 22:36:14 -  кто то пользовался все две недели"
   ]
  },
  {
   "cell_type": "code",
   "execution_count": 126,
   "id": "d9526029",
   "metadata": {},
   "outputs": [
    {
     "data": {
      "text/html": [
       "<div>\n",
       "<style scoped>\n",
       "    .dataframe tbody tr th:only-of-type {\n",
       "        vertical-align: middle;\n",
       "    }\n",
       "\n",
       "    .dataframe tbody tr th {\n",
       "        vertical-align: top;\n",
       "    }\n",
       "\n",
       "    .dataframe thead th {\n",
       "        text-align: right;\n",
       "    }\n",
       "</style>\n",
       "<table border=\"1\" class=\"dataframe\">\n",
       "  <thead>\n",
       "    <tr style=\"text-align: right;\">\n",
       "      <th></th>\n",
       "      <th>user_id</th>\n",
       "      <th>group</th>\n",
       "      <th>first_order</th>\n",
       "      <th>last_order</th>\n",
       "      <th>lifetime</th>\n",
       "    </tr>\n",
       "  </thead>\n",
       "  <tbody>\n",
       "    <tr>\n",
       "      <th>0</th>\n",
       "      <td>964</td>\n",
       "      <td>0</td>\n",
       "      <td>2022-08-26 00:00:19</td>\n",
       "      <td>2022-08-26 00:02:27</td>\n",
       "      <td>0.001481</td>\n",
       "    </tr>\n",
       "    <tr>\n",
       "      <th>1</th>\n",
       "      <td>965</td>\n",
       "      <td>1</td>\n",
       "      <td>2022-08-26 00:02:21</td>\n",
       "      <td>2022-09-04 22:24:32</td>\n",
       "      <td>9.932072</td>\n",
       "    </tr>\n",
       "    <tr>\n",
       "      <th>2</th>\n",
       "      <td>966</td>\n",
       "      <td>0</td>\n",
       "      <td>2022-08-26 00:02:56</td>\n",
       "      <td>2022-08-26 00:02:56</td>\n",
       "      <td>0.000000</td>\n",
       "    </tr>\n",
       "    <tr>\n",
       "      <th>3</th>\n",
       "      <td>967</td>\n",
       "      <td>1</td>\n",
       "      <td>2022-08-26 00:03:37</td>\n",
       "      <td>2022-08-28 16:41:30</td>\n",
       "      <td>2.692975</td>\n",
       "    </tr>\n",
       "    <tr>\n",
       "      <th>4</th>\n",
       "      <td>968</td>\n",
       "      <td>0</td>\n",
       "      <td>2022-08-26 00:05:35</td>\n",
       "      <td>2022-08-31 05:27:34</td>\n",
       "      <td>5.223600</td>\n",
       "    </tr>\n",
       "  </tbody>\n",
       "</table>\n",
       "</div>"
      ],
      "text/plain": [
       "   user_id  group         first_order          last_order  lifetime\n",
       "0      964      0 2022-08-26 00:00:19 2022-08-26 00:02:27  0.001481\n",
       "1      965      1 2022-08-26 00:02:21 2022-09-04 22:24:32  9.932072\n",
       "2      966      0 2022-08-26 00:02:56 2022-08-26 00:02:56  0.000000\n",
       "3      967      1 2022-08-26 00:03:37 2022-08-28 16:41:30  2.692975\n",
       "4      968      0 2022-08-26 00:05:35 2022-08-31 05:27:34  5.223600"
      ]
     },
     "execution_count": 126,
     "metadata": {},
     "output_type": "execute_result"
    }
   ],
   "source": [
    "# посчитаем время жизни для каждого пользователя\n",
    "\n",
    "# dt.total_seconds - выводит разницу между первым и последним заказом в секундах\n",
    "# (3600*24) - далее секунды конвертируем в дни\n",
    "\n",
    "retention['lifetime'] = (retention.last_order - retention.first_order).dt.total_seconds()/(3600*24)\n",
    "retention.head()"
   ]
  },
  {
   "cell_type": "code",
   "execution_count": 127,
   "id": "b3679b50",
   "metadata": {},
   "outputs": [
    {
     "data": {
      "text/plain": [
       "array([datetime.date(2022, 8, 26)], dtype=object)"
      ]
     },
     "execution_count": 127,
     "metadata": {},
     "output_type": "execute_result"
    }
   ],
   "source": [
    "# проверим, когда пользователи сделали первый заказ\n",
    "\n",
    "retention.first_order.dt.date.unique()\n",
    "# все пользователи сделали первый заказ 2022, 8, 26\n",
    "# все пользователи из одной кагорты"
   ]
  },
  {
   "cell_type": "code",
   "execution_count": 128,
   "id": "c558177a",
   "metadata": {},
   "outputs": [
    {
     "data": {
      "text/html": [
       "<div>\n",
       "<style scoped>\n",
       "    .dataframe tbody tr th:only-of-type {\n",
       "        vertical-align: middle;\n",
       "    }\n",
       "\n",
       "    .dataframe tbody tr th {\n",
       "        vertical-align: top;\n",
       "    }\n",
       "\n",
       "    .dataframe thead th {\n",
       "        text-align: right;\n",
       "    }\n",
       "</style>\n",
       "<table border=\"1\" class=\"dataframe\">\n",
       "  <thead>\n",
       "    <tr style=\"text-align: right;\">\n",
       "      <th></th>\n",
       "      <th>user_id</th>\n",
       "      <th>group</th>\n",
       "      <th>first_order</th>\n",
       "      <th>last_order</th>\n",
       "      <th>lifetime</th>\n",
       "      <th>churn</th>\n",
       "    </tr>\n",
       "  </thead>\n",
       "  <tbody>\n",
       "    <tr>\n",
       "      <th>0</th>\n",
       "      <td>964</td>\n",
       "      <td>0</td>\n",
       "      <td>2022-08-26 00:00:19</td>\n",
       "      <td>2022-08-26 00:02:27</td>\n",
       "      <td>0.001481</td>\n",
       "      <td>1</td>\n",
       "    </tr>\n",
       "    <tr>\n",
       "      <th>1</th>\n",
       "      <td>965</td>\n",
       "      <td>1</td>\n",
       "      <td>2022-08-26 00:02:21</td>\n",
       "      <td>2022-09-04 22:24:32</td>\n",
       "      <td>9.932072</td>\n",
       "      <td>0</td>\n",
       "    </tr>\n",
       "    <tr>\n",
       "      <th>2</th>\n",
       "      <td>966</td>\n",
       "      <td>0</td>\n",
       "      <td>2022-08-26 00:02:56</td>\n",
       "      <td>2022-08-26 00:02:56</td>\n",
       "      <td>0.000000</td>\n",
       "      <td>1</td>\n",
       "    </tr>\n",
       "    <tr>\n",
       "      <th>3</th>\n",
       "      <td>967</td>\n",
       "      <td>1</td>\n",
       "      <td>2022-08-26 00:03:37</td>\n",
       "      <td>2022-08-28 16:41:30</td>\n",
       "      <td>2.692975</td>\n",
       "      <td>1</td>\n",
       "    </tr>\n",
       "    <tr>\n",
       "      <th>4</th>\n",
       "      <td>968</td>\n",
       "      <td>0</td>\n",
       "      <td>2022-08-26 00:05:35</td>\n",
       "      <td>2022-08-31 05:27:34</td>\n",
       "      <td>5.223600</td>\n",
       "      <td>1</td>\n",
       "    </tr>\n",
       "  </tbody>\n",
       "</table>\n",
       "</div>"
      ],
      "text/plain": [
       "   user_id  group         first_order          last_order  lifetime  churn\n",
       "0      964      0 2022-08-26 00:00:19 2022-08-26 00:02:27  0.001481      1\n",
       "1      965      1 2022-08-26 00:02:21 2022-09-04 22:24:32  9.932072      0\n",
       "2      966      0 2022-08-26 00:02:56 2022-08-26 00:02:56  0.000000      1\n",
       "3      967      1 2022-08-26 00:03:37 2022-08-28 16:41:30  2.692975      1\n",
       "4      968      0 2022-08-26 00:05:35 2022-08-31 05:27:34  5.223600      1"
      ]
     },
     "execution_count": 128,
     "metadata": {},
     "output_type": "execute_result"
    }
   ],
   "source": [
    "# сделаем переменную оттока\n",
    "# когда мы считаем что наш клиент нас покинул?\n",
    "# pd.Timedelta ('7d') - через 7 дней\n",
    "# если клиент не делал заказ 7 дней, значит он от нас ушел\n",
    "\n",
    "retention['churn'] = ((ord_content.creation_time.max() - retention.last_order) > pd.Timedelta('7d')).astype(int)\n",
    "retention.head()\n",
    "\n",
    "# churn показывает ушел клиент от нас или нет\n",
    "# 1 = ушел"
   ]
  },
  {
   "cell_type": "code",
   "execution_count": 129,
   "id": "ee719179",
   "metadata": {},
   "outputs": [
    {
     "data": {
      "text/plain": [
       "<Axes: xlabel='lifetime', ylabel='Count'>"
      ]
     },
     "execution_count": 129,
     "metadata": {},
     "output_type": "execute_result"
    },
    {
     "data": {
      "image/png": "[encoded data removed]",
      "text/plain": [
       "<Figure size 640x480 with 1 Axes>"
      ]
     },
     "metadata": {},
     "output_type": "display_data"
    }
   ],
   "source": [
    "# посмотрим на графике\n",
    "\n",
    "sns.histplot(data = retention, x= 'lifetime', hue='group')\n",
    "\n",
    "# видим что lifetime распределен примерно равномерно\n",
    "# единственно в контрольной группе много тех кто сделал 1 заказ"
   ]
  },
  {
   "cell_type": "code",
   "execution_count": 131,
   "id": "75c861d4",
   "metadata": {},
   "outputs": [
    {
     "data": {
      "text/html": [
       "<div>\n",
       "<style scoped>\n",
       "    .dataframe tbody tr th:only-of-type {\n",
       "        vertical-align: middle;\n",
       "    }\n",
       "\n",
       "    .dataframe tbody tr th {\n",
       "        vertical-align: top;\n",
       "    }\n",
       "\n",
       "    .dataframe thead th {\n",
       "        text-align: right;\n",
       "    }\n",
       "</style>\n",
       "<table border=\"1\" class=\"dataframe\">\n",
       "  <thead>\n",
       "    <tr style=\"text-align: right;\">\n",
       "      <th>churn</th>\n",
       "      <th>0</th>\n",
       "      <th>1</th>\n",
       "    </tr>\n",
       "    <tr>\n",
       "      <th>group</th>\n",
       "      <th></th>\n",
       "      <th></th>\n",
       "    </tr>\n",
       "  </thead>\n",
       "  <tbody>\n",
       "    <tr>\n",
       "      <th>0</th>\n",
       "      <td>252</td>\n",
       "      <td>263</td>\n",
       "    </tr>\n",
       "    <tr>\n",
       "      <th>1</th>\n",
       "      <td>332</td>\n",
       "      <td>170</td>\n",
       "    </tr>\n",
       "  </tbody>\n",
       "</table>\n",
       "</div>"
      ],
      "text/plain": [
       "churn    0    1\n",
       "group          \n",
       "0      252  263\n",
       "1      332  170"
      ]
     },
     "execution_count": 131,
     "metadata": {},
     "output_type": "execute_result"
    }
   ],
   "source": [
    "# посмотрим на отток по группам\n",
    "\n",
    "pd.crosstab(retention.group, retention.churn)\n",
    "# видим что в тестовой группе отток меньше чем в контрольной"
   ]
  },
  {
   "cell_type": "code",
   "execution_count": 132,
   "id": "59b27e7a",
   "metadata": {},
   "outputs": [
    {
     "data": {
      "text/html": [
       "<div>\n",
       "<style scoped>\n",
       "    .dataframe tbody tr th:only-of-type {\n",
       "        vertical-align: middle;\n",
       "    }\n",
       "\n",
       "    .dataframe tbody tr th {\n",
       "        vertical-align: top;\n",
       "    }\n",
       "\n",
       "    .dataframe thead th {\n",
       "        text-align: right;\n",
       "    }\n",
       "</style>\n",
       "<table border=\"1\" class=\"dataframe\">\n",
       "  <thead>\n",
       "    <tr style=\"text-align: right;\">\n",
       "      <th></th>\n",
       "      <th>test</th>\n",
       "      <th>lambda</th>\n",
       "      <th>chi2</th>\n",
       "      <th>dof</th>\n",
       "      <th>pval</th>\n",
       "      <th>cramer</th>\n",
       "      <th>power</th>\n",
       "    </tr>\n",
       "  </thead>\n",
       "  <tbody>\n",
       "    <tr>\n",
       "      <th>0</th>\n",
       "      <td>pearson</td>\n",
       "      <td>1.000000</td>\n",
       "      <td>30.072727</td>\n",
       "      <td>1.0</td>\n",
       "      <td>4.161428e-08</td>\n",
       "      <td>0.171959</td>\n",
       "      <td>0.999787</td>\n",
       "    </tr>\n",
       "    <tr>\n",
       "      <th>1</th>\n",
       "      <td>cressie-read</td>\n",
       "      <td>0.666667</td>\n",
       "      <td>30.113482</td>\n",
       "      <td>1.0</td>\n",
       "      <td>4.074885e-08</td>\n",
       "      <td>0.172076</td>\n",
       "      <td>0.999790</td>\n",
       "    </tr>\n",
       "    <tr>\n",
       "      <th>2</th>\n",
       "      <td>log-likelihood</td>\n",
       "      <td>0.000000</td>\n",
       "      <td>30.250438</td>\n",
       "      <td>1.0</td>\n",
       "      <td>3.797055e-08</td>\n",
       "      <td>0.172467</td>\n",
       "      <td>0.999800</td>\n",
       "    </tr>\n",
       "    <tr>\n",
       "      <th>3</th>\n",
       "      <td>freeman-tukey</td>\n",
       "      <td>-0.500000</td>\n",
       "      <td>30.402505</td>\n",
       "      <td>1.0</td>\n",
       "      <td>3.510745e-08</td>\n",
       "      <td>0.172900</td>\n",
       "      <td>0.999810</td>\n",
       "    </tr>\n",
       "    <tr>\n",
       "      <th>4</th>\n",
       "      <td>mod-log-likelihood</td>\n",
       "      <td>-1.000000</td>\n",
       "      <td>30.597845</td>\n",
       "      <td>1.0</td>\n",
       "      <td>3.174461e-08</td>\n",
       "      <td>0.173454</td>\n",
       "      <td>0.999823</td>\n",
       "    </tr>\n",
       "    <tr>\n",
       "      <th>5</th>\n",
       "      <td>neyman</td>\n",
       "      <td>-2.000000</td>\n",
       "      <td>31.122750</td>\n",
       "      <td>1.0</td>\n",
       "      <td>2.422158e-08</td>\n",
       "      <td>0.174936</td>\n",
       "      <td>0.999852</td>\n",
       "    </tr>\n",
       "  </tbody>\n",
       "</table>\n",
       "</div>"
      ],
      "text/plain": [
       "                 test    lambda       chi2  dof          pval    cramer  \\\n",
       "0             pearson  1.000000  30.072727  1.0  4.161428e-08  0.171959   \n",
       "1        cressie-read  0.666667  30.113482  1.0  4.074885e-08  0.172076   \n",
       "2      log-likelihood  0.000000  30.250438  1.0  3.797055e-08  0.172467   \n",
       "3       freeman-tukey -0.500000  30.402505  1.0  3.510745e-08  0.172900   \n",
       "4  mod-log-likelihood -1.000000  30.597845  1.0  3.174461e-08  0.173454   \n",
       "5              neyman -2.000000  31.122750  1.0  2.422158e-08  0.174936   \n",
       "\n",
       "      power  \n",
       "0  0.999787  \n",
       "1  0.999790  \n",
       "2  0.999800  \n",
       "3  0.999810  \n",
       "4  0.999823  \n",
       "5  0.999852  "
      ]
     },
     "execution_count": 132,
     "metadata": {},
     "output_type": "execute_result"
    }
   ],
   "source": [
    "# проверим статистическую значимость изменений через Хи квадрат\n",
    "# используем Хи квадрат, так как 'churn' это событие\n",
    "\n",
    "exp, obs, stats = pg.chi2_independence(data = retention,\n",
    "                                     x = 'group',\n",
    "                                     y = 'churn')\n",
    "\n",
    "stats"
   ]
  },
  {
   "cell_type": "markdown",
   "id": "e4732ca6",
   "metadata": {},
   "source": [
    "**При сравнении оттока клиентов, мы можем говорить, о статистически значимых различиях pval< 0.05  \n",
    "cramer - это коэфициент корреляции - показывает на сколько сильно проявилось данное различие, в нашем случае 0.17, это говорит о том, что количество уходов клиентов изменилось**\n",
    "\n",
    "**Вывод: нас статистически значимо не покидают пользователи, которые используют новую систему рекомендации товаров**\n"
   ]
  },
  {
   "cell_type": "markdown",
   "id": "ebc56cd3",
   "metadata": {},
   "source": [
    "## 3. Ответим на вопрос: Смогла ли новая система рекомендаций принести пользу бизнесу и пользователям приложения и стоит ли включать новую систему рекомендаций на всех пользователей"
   ]
  },
  {
   "cell_type": "markdown",
   "id": "e1b933fa",
   "metadata": {},
   "source": [
    "**Количество покупок на одного пользователя  изменилось, в тестовой группе в среднем на 2 заказа на пользователя больше и мы получили статистически значимые различия в этой метрике,   \n",
    "делаю вывод: Новая система рекомендаций стала удобнее для пользователей и они стали чаще делать покупки в приложении, тем самым увеличивая выручку и прибыль приложения доставки**\n",
    "\n",
    "**При проверке метрики Соотношение заказов и отмен в группах, мы не получили статистически значимых различий \n",
    "делаю вывод: Увеличение отмен в тестовой группе связано с увеличением числа заказов.**\n",
    "\n",
    "**Retention в тестовой группе выше, отток клиентов в тестовой группе меньше, здесь мы также получили статистически значимые различия,  \n",
    "делаю вывод: Новая система рекомендаций удерживает больше клиентов, и как следствие увеличивает обьем продаж**\n",
    "\n",
    "**при проверке таких метрик как:**  \n",
    "**- Среднее число позиций товаров в заказе**  \n",
    "**- Средний чек  \n",
    "мы не получили статистически значимых различий, это говорит о том, что не смотря на увеличение числа заказов и удержание клиентов, новая система рекомендаций не выполняет свою задачу на 100 % и стоит обратить внимание на улучшение этих метрик**"
   ]
  },
  {
   "cell_type": "markdown",
   "id": "7d3d4830",
   "metadata": {},
   "source": [
    "## МОЙ ОТВЕТ: Смогла ли новая система рекомендаций принести пользу бизнесу и пользователям приложения и стоит ли включать новую систему рекомендаций на всех пользователей\n",
    "\n",
    "### В целом считаю эксперимент успешным, и вот почему:\n",
    "**Умная система рекомендации товаров предназначена для выстраивания долгосрочных отношений с пользователем и повышения продаж. В нашем случае пользователи в тестовой группе стали делать покупки чаще, значит Новая система рекомендации справилась с этой задачей, и все же в ближайшем будущем я бы рассмотрела улучшение системы рекомендации, так как в таких важных метриках как средний чек и среднее число позиций товаров в заказе мы не получили статистически значимых изменений.**\n",
    "\n",
    "### Рекомендую включить новую систему рекомендаций на всех пользователей."
   ]
  },
  {
   "cell_type": "code",
   "execution_count": null,
   "id": "cd16ee12",
   "metadata": {},
   "outputs": [],
   "source": []
  }
 ],
 "metadata": {
  "kernelspec": {
   "display_name": "Python 3 (ipykernel)",
   "language": "python",
   "name": "python3"
  },
  "language_info": {
   "codemirror_mode": {
    "name": "ipython",
    "version": 3
   },
   "file_extension": ".py",
   "mimetype": "text/x-python",
   "name": "python",
   "nbconvert_exporter": "python",
   "pygments_lexer": "ipython3",
   "version": "3.11.5"
  }
 },
 "nbformat": 4,
 "nbformat_minor": 5
}
